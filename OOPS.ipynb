{
  "nbformat": 4,
  "nbformat_minor": 0,
  "metadata": {
    "colab": {
      "provenance": []
    },
    "kernelspec": {
      "name": "python3",
      "display_name": "Python 3"
    },
    "language_info": {
      "name": "python"
    }
  },
  "cells": [
    {
      "cell_type": "markdown",
      "source": [
        "1. What is Object-Oriented Programming (OOP)?\n",
        "  - OOP is a programming paradigm based on the concept of objects, which contain data (attributes) and behavior (methods). It promotes code reuse, modularity, and abstraction.\n",
        "\n",
        "2. What is a class in OOP?\n",
        "   - A class is a blueprint for creating objects. It defines the structure and behavior (methods) that the objects will have.\n",
        "   \n",
        "    class Car:\n",
        "      def __init__(self, model):\n",
        "        self.model = model\n",
        "\n",
        "3. What is an object in OOP?\n",
        "   - An object is an instance of a class. It represents a specific implementation of the class blueprint.\n",
        "\n",
        "    my_car = Car(\"Toyota\")\n",
        "\n",
        "4. What is the difference between abstraction and encapsulation?\n",
        "  - Abstraction hides complexity and only shows essential features.\n",
        "\n",
        "   - Encapsulation hides internal data and protects object integrity by restricting direct access.\n",
        "\n",
        "5. What are dunder methods in Python?\n",
        "  - Dunder (double underscore) methods like __init__, __str__, and __len__ allow objects to interact with Python's built-in functions and syntax.\n",
        "\n",
        "6. Explain the concept of inheritance in OOP.\n",
        "    - Inheritance allows one class to acquire properties and methods of another. It supports code reuse.\n",
        "\n",
        "\n",
        "    class Animal:\n",
        "        def speak(self):\n",
        "            print(\"Animal speaks\")\n",
        "\n",
        "    class Dog(Animal):\n",
        "        def speak(self):\n",
        "            print(\"Dog barks\")\n",
        "\n",
        "7. What is polymorphism in OOP?\n",
        "   - Polymorphism allows different classes to implement methods with the same name, but with behavior specific to the class.\n",
        "\n",
        "\n",
        "    for animal in [Dog(), Cat()]:\n",
        "        animal.speak()\n",
        "\n",
        "8. How is encapsulation achieved in Python?\n",
        "    - Using private variables (with __) and getter/setter methods.\n",
        "\n",
        "\n",
        "    class Person:\n",
        "        def __init__(self, name):\n",
        "            self.__name = name\n",
        "\n",
        "        def get_name(self):\n",
        "            return self.__name\n",
        "            \n",
        "9. What is a constructor in Python?\n",
        "   - The __init__ method is the constructor. It's automatically called when an object is created.\n",
        "\n",
        "\n",
        "    class Car:\n",
        "        def __init__(self, model):\n",
        "            self.model = model\n",
        "\n",
        "10. What are class and static methods in Python?\n",
        "   - @classmethod: Accesses class-level data using cls.\n",
        "\n",
        "   - @staticmethod: No access to class or instance. Used for utility functions.\n",
        "\n",
        "11. What is method overloading in Python?\n",
        "   - Python doesn't support method overloading natively, but it can be mimicked using default arguments or *args.\n",
        "\n",
        "12. What is method overriding in OOP?\n",
        "   - A child class can override a parent class method to provide specific behavior.\n",
        "\n",
        "13. What is a property decorator in Python?\n",
        "  - @property makes a method act like an attribute.\n",
        "\n",
        "    class Circle:\n",
        "        def __init__(self, radius):\n",
        "            self._radius = radius\n",
        "\n",
        "        @property\n",
        "        def area(self):\n",
        "            return 3.14 * self._radius ** 2\n",
        "\n",
        "14. Why is polymorphism important in OOP?\n",
        "  - It enables code flexibility and reuse by allowing different object types to be treated through a common interface.\n",
        "\n",
        "15. What is an abstract class in Python?\n",
        "   - An abstract class cannot be instantiated and may define abstract methods using the abc module.\n",
        "\n",
        "\n",
        "    from abc import ABC, abstractmethod\n",
        "\n",
        "    class Shape(ABC):\n",
        "        @abstractmethod\n",
        "        def area(self):\n",
        "            pass\n",
        "\n",
        "16. What are the advantages of OOP?\n",
        "- Modularity\n",
        "\n",
        "- Code Reusability\n",
        "\n",
        "- Data Hiding (Encapsulation)\n",
        "\n",
        "- Scalability\n",
        "\n",
        "- Easy Maintenance\n",
        "\n",
        "17. What is multiple inheritance in Python?\n",
        "   - A class inherits from more than one parent class.\n",
        "\n",
        "    class A:\n",
        "        pass\n",
        "\n",
        "    class B:\n",
        "        pass\n",
        "\n",
        "    class C(A, B):\n",
        "        pass\n",
        "\n",
        "18. What is the difference between a class variable and an instance variable?\n",
        "  - Class variable: Shared across all instances.\n",
        "\n",
        "  - Instance variable: Unique to each object.\n",
        "\n",
        "19. Explain the purpose of __str__ and __repr__ methods in Python.\n",
        "   - __str__: User-friendly string (used by print).\n",
        "\n",
        "  - __repr__: Developer-friendly representation (used in debugging).\n",
        "\n",
        "20. What is the significance of the super() function in Python?\n",
        "  - super() is used to call the parent class methods, especially during method overriding.\n",
        "\n",
        "    super().__init__()\n",
        "\n",
        "21. What is the significance of the __del__ method in Python?\n",
        "    - __del__ is a destructor method called when an object is about to be destroyed (not commonly used).\n",
        "\n",
        "22. What is the difference between @staticmethod and @classmethod in Python?\n",
        "   - In Python, both @staticmethod and @classmethod are used to define methods that are not bound to instance objects, but they serve different purposes. A @staticmethod does not take the instance (self) or the class (cls) as the first argument. It behaves like a regular function that happens to reside in a class and is often used for utility functions that are logically related to the class but don't need access to class or instance-specific data. On the other hand, a @classmethod takes the class itself (cls) as the first argument and can access or modify class-level attributes. It is commonly used for creating factory methods, where you want to create instances of the class in a different way than the constructor. While both decorators allow methods to be called on the class itself (without instantiating), the key difference is that @classmethod has knowledge of the class context, whereas @staticmethod does not.\n",
        "\n",
        "23. How does polymorphism work in Python with inheritance?\n",
        "  - Child classes can override parent methods, and objects of different classes can be treated through a common interface.\n",
        "\n",
        "24. What is method chaining in Python OOP?\n",
        "  - Calling multiple methods on the same object in a single line, returning self in each method.\n",
        "\n",
        "    class Text:\n",
        "        def __init__(self):\n",
        "            self.content = \"\"\n",
        "\n",
        "        def add(self, msg):\n",
        "            self.content += msg\n",
        "            return self\n",
        "\n",
        "        def show(self):\n",
        "            print(self.content)\n",
        "\n",
        "    Text().add(\"Hello \").add(\"World! \").show()\n",
        "\n",
        "25. What is the purpose of the __call__ method in Python?\n",
        "  - Makes an object callable like a function.\n",
        "\n",
        "\n",
        "    class Adder:\n",
        "        def __call__(self, a, b):\n",
        "            return a + b\n",
        "\n",
        "    add = Adder()\n",
        "    print(add(5, 3))  # Output: 8"
      ],
      "metadata": {
        "id": "bgQYEZYq4g1D"
      }
    },
    {
      "cell_type": "markdown",
      "source": [
        "**PRACTICAL** **QUESTIONS**"
      ],
      "metadata": {
        "id": "pOuzoixQ-56Y"
      }
    },
    {
      "cell_type": "markdown",
      "source": [
        " 1. Create a parent class Animal with a method speak() that prints a generic message. Create a child class Dog that overrides the speak() method to print \"Bark!\""
      ],
      "metadata": {
        "id": "GOnnOQUk8Yoh"
      }
    },
    {
      "cell_type": "code",
      "source": [
        "class Animal:\n",
        "    def speak(self):\n",
        "        print(\"Animal speaks\")\n",
        "\n",
        "class Dog(Animal):\n",
        "    def speak(self):\n",
        "        print(\"Bark!\")\n",
        "\n",
        "d = Dog()\n",
        "d.speak()\n",
        "\n"
      ],
      "metadata": {
        "colab": {
          "base_uri": "https://localhost:8080/"
        },
        "id": "Vkm8-UvV8cz6",
        "outputId": "74634421-5547-46c9-bc39-d7fac8ff8572"
      },
      "execution_count": 1,
      "outputs": [
        {
          "output_type": "stream",
          "name": "stdout",
          "text": [
            "Bark!\n"
          ]
        }
      ]
    },
    {
      "cell_type": "markdown",
      "source": [
        " 2. Write a program to create an abstract class Shape with a method area(). Derive classes Circle and Rectangle from it and implement the area() method in both."
      ],
      "metadata": {
        "id": "pwrlXdYp8kls"
      }
    },
    {
      "cell_type": "code",
      "source": [
        "from abc import ABC, abstractmethod\n",
        "import math\n",
        "\n",
        "class Shape(ABC):\n",
        "    @abstractmethod\n",
        "    def area(self):\n",
        "        pass\n",
        "\n",
        "class Circle(Shape):\n",
        "    def __init__(self, radius):\n",
        "        self.radius = radius\n",
        "\n",
        "    def area(self):\n",
        "        return math.pi * self.radius ** 2\n",
        "\n",
        "class Rectangle(Shape):\n",
        "    def __init__(self, length, width):\n",
        "        self.length = length\n",
        "        self.width = width\n",
        "\n",
        "    def area(self):\n",
        "        return self.length * self.width\n",
        "\n",
        "c = Circle(5)\n",
        "r = Rectangle(4, 6)\n",
        "print(c.area())\n",
        "print(r.area())\n"
      ],
      "metadata": {
        "colab": {
          "base_uri": "https://localhost:8080/"
        },
        "id": "T7jVnbsG8qro",
        "outputId": "710fbfe9-7389-4321-a330-d26f8d6960ef"
      },
      "execution_count": 2,
      "outputs": [
        {
          "output_type": "stream",
          "name": "stdout",
          "text": [
            "78.53981633974483\n",
            "24\n"
          ]
        }
      ]
    },
    {
      "cell_type": "markdown",
      "source": [
        "3. Implement a multi-level inheritance scenario where a class Vehicle has an attribute type. Derive a class Car and further derive a class ElectricCar that adds a battery attribute"
      ],
      "metadata": {
        "id": "NJSS0DRY82d9"
      }
    },
    {
      "cell_type": "code",
      "source": [
        "class Vehicle:\n",
        "    def __init__(self, type):\n",
        "        self.type = type\n",
        "\n",
        "class Car(Vehicle):\n",
        "    def __init__(self, type, brand):\n",
        "        super().__init__(type)\n",
        "        self.brand = brand\n",
        "\n",
        "class ElectricCar(Car):\n",
        "    def __init__(self, type, brand, battery):\n",
        "        super().__init__(type, brand)\n",
        "        self.battery = battery\n",
        "\n",
        "e = ElectricCar(\"4-wheeler\", \"Tesla\", \"100 kWh\")\n",
        "print(e.type, e.brand, e.battery)"
      ],
      "metadata": {
        "colab": {
          "base_uri": "https://localhost:8080/"
        },
        "id": "h8Lu-LAu84IT",
        "outputId": "eae21798-c49e-4a7a-b7e9-b909ca4aab64"
      },
      "execution_count": 3,
      "outputs": [
        {
          "output_type": "stream",
          "name": "stdout",
          "text": [
            "4-wheeler Tesla 100 kWh\n"
          ]
        }
      ]
    },
    {
      "cell_type": "markdown",
      "source": [
        " 4. Demonstrate polymorphism by creating a base class Bird with a method fly(). Create two derived classes Sparrow and Penguin that override the fly() method."
      ],
      "metadata": {
        "id": "fOFKLuBE877f"
      }
    },
    {
      "cell_type": "code",
      "source": [
        "class Bird:\n",
        "    def fly(self):\n",
        "        print(\"Bird can fly\")\n",
        "\n",
        "class Sparrow(Bird):\n",
        "    def fly(self):\n",
        "        print(\"Sparrow flies high\")\n",
        "\n",
        "class Penguin(Bird):\n",
        "    def fly(self):\n",
        "        print(\"Penguin can't fly\")\n",
        "\n",
        "birds = [Sparrow(), Penguin()]\n",
        "for bird in birds:\n",
        "    bird.fly()\n"
      ],
      "metadata": {
        "colab": {
          "base_uri": "https://localhost:8080/"
        },
        "id": "MrJLHy8C9APK",
        "outputId": "5192aff0-8e8a-47cb-8e14-bee239b68902"
      },
      "execution_count": 4,
      "outputs": [
        {
          "output_type": "stream",
          "name": "stdout",
          "text": [
            "Sparrow flies high\n",
            "Penguin can't fly\n"
          ]
        }
      ]
    },
    {
      "cell_type": "markdown",
      "source": [
        "5. Write a program to demonstrate encapsulation by creating a class BankAccount with private attributes balance and methods to deposit, withdraw, and check balance."
      ],
      "metadata": {
        "id": "JaYMgxl79FuW"
      }
    },
    {
      "cell_type": "code",
      "source": [
        "class BankAccount:\n",
        "    def __init__(self):\n",
        "        self.__balance = 0\n",
        "\n",
        "    def deposit(self, amount):\n",
        "        self.__balance += amount\n",
        "\n",
        "    def withdraw(self, amount):\n",
        "        if amount <= self.__balance:\n",
        "            self.__balance -= amount\n",
        "\n",
        "    def check_balance(self):\n",
        "        return self.__balance\n",
        "\n",
        "acc = BankAccount()\n",
        "acc.deposit(1000)\n",
        "acc.withdraw(400)\n",
        "print(acc.check_balance())"
      ],
      "metadata": {
        "colab": {
          "base_uri": "https://localhost:8080/"
        },
        "id": "HpNxQNZA9J-I",
        "outputId": "6cc04f9a-b2cd-44fe-d8ca-44efc6d27ef8"
      },
      "execution_count": 5,
      "outputs": [
        {
          "output_type": "stream",
          "name": "stdout",
          "text": [
            "600\n"
          ]
        }
      ]
    },
    {
      "cell_type": "markdown",
      "source": [
        "6. Demonstrate runtime polymorphism using a method play() in a base class Instrument. Derive classes Guitar and Piano that implement their own version of play()"
      ],
      "metadata": {
        "id": "i3EC0SZA9Pa-"
      }
    },
    {
      "cell_type": "code",
      "source": [
        "class Instrument:\n",
        "    def play(self):\n",
        "        print(\"Instrument playing\")\n",
        "\n",
        "class Guitar(Instrument):\n",
        "    def play(self):\n",
        "        print(\"Strumming Guitar\")\n",
        "\n",
        "class Piano(Instrument):\n",
        "    def play(self):\n",
        "        print(\"Playing Piano\")\n",
        "\n",
        "for instrument in [Guitar(), Piano()]:\n",
        "    instrument.play()"
      ],
      "metadata": {
        "colab": {
          "base_uri": "https://localhost:8080/"
        },
        "id": "fAnofsgY9Qya",
        "outputId": "7e738b14-6210-4919-9dfb-bb44c9cb6f00"
      },
      "execution_count": 6,
      "outputs": [
        {
          "output_type": "stream",
          "name": "stdout",
          "text": [
            "Strumming Guitar\n",
            "Playing Piano\n"
          ]
        }
      ]
    },
    {
      "cell_type": "markdown",
      "source": [
        " 7. Create a class MathOperations with a class method add_numbers() to add two numbers and a static method subtract_numbers() to subtract two numbers"
      ],
      "metadata": {
        "id": "GKP0P8Q29U1y"
      }
    },
    {
      "cell_type": "code",
      "source": [
        "class MathOperations:\n",
        "    @classmethod\n",
        "    def add_numbers(cls, a, b):\n",
        "        return a + b\n",
        "\n",
        "    @staticmethod\n",
        "    def subtract_numbers(a, b):\n",
        "        return a - b\n",
        "\n",
        "print(MathOperations.add_numbers(5, 3))\n",
        "print(MathOperations.subtract_numbers(10, 4))"
      ],
      "metadata": {
        "colab": {
          "base_uri": "https://localhost:8080/"
        },
        "id": "UEjuYvXj9YTJ",
        "outputId": "1f3b87d1-dbac-4a05-d656-5d176d01e015"
      },
      "execution_count": 7,
      "outputs": [
        {
          "output_type": "stream",
          "name": "stdout",
          "text": [
            "8\n",
            "6\n"
          ]
        }
      ]
    },
    {
      "cell_type": "markdown",
      "source": [
        "8. Implement a class Person with a class method to count the total number of persons created."
      ],
      "metadata": {
        "id": "aeNmL2h89eOs"
      }
    },
    {
      "cell_type": "code",
      "source": [
        "class Person:\n",
        "    count = 0\n",
        "\n",
        "    def __init__(self):\n",
        "        Person.count += 1\n",
        "\n",
        "    @classmethod\n",
        "    def get_count(cls):\n",
        "        return cls.count\n",
        "\n",
        "p1 = Person()\n",
        "p2 = Person()\n",
        "print(Person.get_count())"
      ],
      "metadata": {
        "colab": {
          "base_uri": "https://localhost:8080/"
        },
        "id": "G3cslLMK9h1a",
        "outputId": "d75b7e67-aeaf-4374-bde9-20c145f00675"
      },
      "execution_count": 8,
      "outputs": [
        {
          "output_type": "stream",
          "name": "stdout",
          "text": [
            "2\n"
          ]
        }
      ]
    },
    {
      "cell_type": "markdown",
      "source": [
        " 9. Write a class Fraction with attributes numerator and denominator. Override the str method to display the fraction as \"numerator/denominator\""
      ],
      "metadata": {
        "id": "ky_ADeE19lZw"
      }
    },
    {
      "cell_type": "code",
      "source": [
        "class Fraction:\n",
        "    def __init__(self, num, den):\n",
        "        self.num = num\n",
        "        self.den = den\n",
        "\n",
        "    def __str__(self):\n",
        "        return f\"{self.num}/{self.den}\"\n",
        "\n",
        "f = Fraction(3, 4)\n",
        "print(f)"
      ],
      "metadata": {
        "colab": {
          "base_uri": "https://localhost:8080/"
        },
        "id": "2Gv4k-v39qGr",
        "outputId": "691b47a6-5037-4825-aab5-de164becb49a"
      },
      "execution_count": 9,
      "outputs": [
        {
          "output_type": "stream",
          "name": "stdout",
          "text": [
            "3/4\n"
          ]
        }
      ]
    },
    {
      "cell_type": "markdown",
      "source": [
        " 10. Demonstrate operator overloading by creating a class Vector and overriding the add method to add two vectors."
      ],
      "metadata": {
        "id": "FQ17aBAc9t39"
      }
    },
    {
      "cell_type": "code",
      "source": [
        "class Vector:\n",
        "    def __init__(self, x, y):\n",
        "        self.x = x\n",
        "        self.y = y\n",
        "\n",
        "    def __add__(self, other):\n",
        "        return Vector(self.x + other.x, self.y + other.y)\n",
        "\n",
        "    def __str__(self):\n",
        "        return f\"Vector({self.x}, {self.y})\"\n",
        "\n",
        "v1 = Vector(1, 2)\n",
        "v2 = Vector(3, 4)\n",
        "print(v1 + v2)"
      ],
      "metadata": {
        "colab": {
          "base_uri": "https://localhost:8080/"
        },
        "id": "pd0gXT5291v7",
        "outputId": "825ec403-5da5-4a5b-a671-f55363fe081e"
      },
      "execution_count": 10,
      "outputs": [
        {
          "output_type": "stream",
          "name": "stdout",
          "text": [
            "Vector(4, 6)\n"
          ]
        }
      ]
    },
    {
      "cell_type": "markdown",
      "source": [
        " 11. Create a class Person with attributes name and age. Add a method greet() that prints \"Hello, my name is {name} and I am {age} years old.\""
      ],
      "metadata": {
        "id": "B1ibLhq-95_8"
      }
    },
    {
      "cell_type": "code",
      "source": [
        "class Person:\n",
        "    def __init__(self, name, age):\n",
        "        self.name = name\n",
        "        self.age = age\n",
        "\n",
        "    def greet(self):\n",
        "        print(f\"Hello, my name is {self.name} and I am {self.age} years old.\")\n",
        "\n",
        "p = Person(\"Adit\", 25)\n",
        "p.greet()"
      ],
      "metadata": {
        "colab": {
          "base_uri": "https://localhost:8080/"
        },
        "id": "qRMHxuVY-DJO",
        "outputId": "4f46d1c6-9b0b-4860-9d15-41edad9ef54c"
      },
      "execution_count": 11,
      "outputs": [
        {
          "output_type": "stream",
          "name": "stdout",
          "text": [
            "Hello, my name is Adit and I am 25 years old.\n"
          ]
        }
      ]
    },
    {
      "cell_type": "markdown",
      "source": [
        " 12. Implement a class Student with attributes name and grades. Create a method average_grade() to compute the average of the grades"
      ],
      "metadata": {
        "id": "ULSIROHG-GSK"
      }
    },
    {
      "cell_type": "code",
      "source": [
        "class Student:\n",
        "    def __init__(self, name, grades):\n",
        "        self.name = name\n",
        "        self.grades = grades\n",
        "\n",
        "    def average_grade(self):\n",
        "        return sum(self.grades) / len(self.grades)\n",
        "\n",
        "s = Student(\"Anu\", [80, 90, 100])\n",
        "print(s.average_grade())"
      ],
      "metadata": {
        "colab": {
          "base_uri": "https://localhost:8080/"
        },
        "id": "CH8kEX8Z-IK9",
        "outputId": "ddbf524b-723d-45f5-fd10-56a74123b900"
      },
      "execution_count": 12,
      "outputs": [
        {
          "output_type": "stream",
          "name": "stdout",
          "text": [
            "90.0\n"
          ]
        }
      ]
    },
    {
      "cell_type": "markdown",
      "source": [
        "13. Create a class Rectangle with methods set_dimensions() to set the dimensions and area() to calculate the area."
      ],
      "metadata": {
        "id": "BFuWKaOa-OE0"
      }
    },
    {
      "cell_type": "code",
      "source": [
        "class Rectangle:\n",
        "    def set_dimensions(self, length, width):\n",
        "        self.length = length\n",
        "        self.width = width\n",
        "\n",
        "    def area(self):\n",
        "        return self.length * self.width\n",
        "\n",
        "r = Rectangle()\n",
        "r.set_dimensions(5, 10)\n",
        "print(r.area())"
      ],
      "metadata": {
        "colab": {
          "base_uri": "https://localhost:8080/"
        },
        "id": "Nppv4WYH-RUa",
        "outputId": "4d730040-31f5-4320-c94b-5ffd2318fd6a"
      },
      "execution_count": 13,
      "outputs": [
        {
          "output_type": "stream",
          "name": "stdout",
          "text": [
            "50\n"
          ]
        }
      ]
    },
    {
      "cell_type": "markdown",
      "source": [
        " 14. Create a class Employee with a method calculate_salary() that computes the salary based on hours worked and hourly rate. Create a derived class Manager that adds a bonus to the salary."
      ],
      "metadata": {
        "id": "lXtPyhHV-Ubf"
      }
    },
    {
      "cell_type": "code",
      "source": [
        "class Employee:\n",
        "    def calculate_salary(self, hours, rate):\n",
        "        return hours * rate\n",
        "\n",
        "class Manager(Employee):\n",
        "    def calculate_salary(self, hours, rate, bonus=1000):\n",
        "        return super().calculate_salary(hours, rate) + bonus\n",
        "\n",
        "m = Manager()\n",
        "print(m.calculate_salary(40, 50))"
      ],
      "metadata": {
        "colab": {
          "base_uri": "https://localhost:8080/"
        },
        "id": "ETbbaci_-X1n",
        "outputId": "7f6b60e7-1926-4841-ba91-74c736148d75"
      },
      "execution_count": 14,
      "outputs": [
        {
          "output_type": "stream",
          "name": "stdout",
          "text": [
            "3000\n"
          ]
        }
      ]
    },
    {
      "cell_type": "markdown",
      "source": [
        "15. Create a class Product with attributes name, price, and quantity. Implement a method total_price() that calculates the total price of the product."
      ],
      "metadata": {
        "id": "38uyrGhY-bM9"
      }
    },
    {
      "cell_type": "code",
      "source": [
        "class Product:\n",
        "    def __init__(self, name, price, quantity):\n",
        "        self.name = name\n",
        "        self.price = price\n",
        "        self.quantity = quantity\n",
        "\n",
        "    def total_price(self):\n",
        "        return self.price * self.quantity\n",
        "\n",
        "p = Product(\"Pen\", 10, 5)\n",
        "print(p.total_price())"
      ],
      "metadata": {
        "colab": {
          "base_uri": "https://localhost:8080/"
        },
        "id": "tz4YktS_-ena",
        "outputId": "72241984-6aaa-42d8-c999-c29ebe3e998b"
      },
      "execution_count": 15,
      "outputs": [
        {
          "output_type": "stream",
          "name": "stdout",
          "text": [
            "50\n"
          ]
        }
      ]
    },
    {
      "cell_type": "markdown",
      "source": [
        " 16. Create a class Animal with an abstract method sound(). Create two derived classes Cow and Sheep that implement the sound() method."
      ],
      "metadata": {
        "id": "flZIxnLd-hDb"
      }
    },
    {
      "cell_type": "code",
      "source": [
        "from abc import ABC, abstractmethod\n",
        "\n",
        "class Animal(ABC):\n",
        "    @abstractmethod\n",
        "    def sound(self):\n",
        "        pass\n",
        "\n",
        "class Cow(Animal):\n",
        "    def sound(self):\n",
        "        print(\"Moo\")\n",
        "\n",
        "class Sheep(Animal):\n",
        "    def sound(self):\n",
        "        print(\"Baa\")\n",
        "\n",
        "c = Cow()\n",
        "s = Sheep()\n",
        "c.sound()\n",
        "s.sound()"
      ],
      "metadata": {
        "colab": {
          "base_uri": "https://localhost:8080/"
        },
        "id": "m_F4fsTq-jSS",
        "outputId": "5f88e07f-c088-457c-8aaf-e7ec9056263c"
      },
      "execution_count": 16,
      "outputs": [
        {
          "output_type": "stream",
          "name": "stdout",
          "text": [
            "Moo\n",
            "Baa\n"
          ]
        }
      ]
    },
    {
      "cell_type": "markdown",
      "source": [
        " 17. Create a class Book with attributes title, author, and year_published. Add a method get_book_info() that returns a formatted string with the book's details"
      ],
      "metadata": {
        "id": "qNNsCkH_-oTF"
      }
    },
    {
      "cell_type": "code",
      "source": [
        "class Book:\n",
        "    def __init__(self, title, author, year_published):\n",
        "        self.title = title\n",
        "        self.author = author\n",
        "        self.year = year_published\n",
        "\n",
        "    def get_book_info(self):\n",
        "        return f\"{self.title} by {self.author} ({self.year})\"\n",
        "\n",
        "b = Book(\"1984\", \"George Orwell\", 1949)\n",
        "print(b.get_book_info())"
      ],
      "metadata": {
        "colab": {
          "base_uri": "https://localhost:8080/"
        },
        "id": "RkMbJKKd-p3i",
        "outputId": "84bf0380-a79e-49e0-fc6a-ca6179c2daeb"
      },
      "execution_count": 17,
      "outputs": [
        {
          "output_type": "stream",
          "name": "stdout",
          "text": [
            "1984 by George Orwell (1949)\n"
          ]
        }
      ]
    },
    {
      "cell_type": "markdown",
      "source": [
        " 18. Create a class House with attributes address and price. Create a derived class Mansion that adds an attribute number_of_rooms."
      ],
      "metadata": {
        "id": "bTCdTzUh-vaZ"
      }
    },
    {
      "cell_type": "code",
      "source": [
        "class House:\n",
        "    def __init__(self, address, price):\n",
        "        self.address = address\n",
        "        self.price = price\n",
        "\n",
        "class Mansion(House):\n",
        "    def __init__(self, address, price, number_of_rooms):\n",
        "        super().__init__(address, price)\n",
        "        self.number_of_rooms = number_of_rooms\n",
        "\n",
        "m = Mansion(\"123 Palace Rd\", 5000000, 10)\n",
        "print(m.address, m.price, m.number_of_rooms)"
      ],
      "metadata": {
        "colab": {
          "base_uri": "https://localhost:8080/"
        },
        "id": "IV2GtE3A-0pa",
        "outputId": "d14537c8-0e91-47f4-ddbe-738268fff5ed"
      },
      "execution_count": 18,
      "outputs": [
        {
          "output_type": "stream",
          "name": "stdout",
          "text": [
            "123 Palace Rd 5000000 10\n"
          ]
        }
      ]
    }
  ]
}